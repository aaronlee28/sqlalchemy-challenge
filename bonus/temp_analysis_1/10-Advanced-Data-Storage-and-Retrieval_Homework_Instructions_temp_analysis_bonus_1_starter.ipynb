{
 "cells": [
  {
   "cell_type": "markdown",
   "metadata": {},
   "source": [
    "# Bonus: Temperature Analysis I"
   ]
  },
  {
   "cell_type": "code",
   "execution_count": 19,
   "metadata": {},
   "outputs": [],
   "source": [
    "import pandas as pd\n",
    "from datetime import datetime as dt"
   ]
  },
  {
   "cell_type": "code",
   "execution_count": 20,
   "metadata": {},
   "outputs": [
    {
     "output_type": "execute_result",
     "data": {
      "text/plain": [
       "       station        date  prcp  tobs\n",
       "0  USC00519397  2010-01-01  0.08    65\n",
       "1  USC00519397  2010-01-02  0.00    63\n",
       "2  USC00519397  2010-01-03  0.00    74\n",
       "3  USC00519397  2010-01-04  0.00    76\n",
       "4  USC00519397  2010-01-06   NaN    73"
      ],
      "text/html": "<div>\n<style scoped>\n    .dataframe tbody tr th:only-of-type {\n        vertical-align: middle;\n    }\n\n    .dataframe tbody tr th {\n        vertical-align: top;\n    }\n\n    .dataframe thead th {\n        text-align: right;\n    }\n</style>\n<table border=\"1\" class=\"dataframe\">\n  <thead>\n    <tr style=\"text-align: right;\">\n      <th></th>\n      <th>station</th>\n      <th>date</th>\n      <th>prcp</th>\n      <th>tobs</th>\n    </tr>\n  </thead>\n  <tbody>\n    <tr>\n      <th>0</th>\n      <td>USC00519397</td>\n      <td>2010-01-01</td>\n      <td>0.08</td>\n      <td>65</td>\n    </tr>\n    <tr>\n      <th>1</th>\n      <td>USC00519397</td>\n      <td>2010-01-02</td>\n      <td>0.00</td>\n      <td>63</td>\n    </tr>\n    <tr>\n      <th>2</th>\n      <td>USC00519397</td>\n      <td>2010-01-03</td>\n      <td>0.00</td>\n      <td>74</td>\n    </tr>\n    <tr>\n      <th>3</th>\n      <td>USC00519397</td>\n      <td>2010-01-04</td>\n      <td>0.00</td>\n      <td>76</td>\n    </tr>\n    <tr>\n      <th>4</th>\n      <td>USC00519397</td>\n      <td>2010-01-06</td>\n      <td>NaN</td>\n      <td>73</td>\n    </tr>\n  </tbody>\n</table>\n</div>"
     },
     "metadata": {},
     "execution_count": 20
    }
   ],
   "source": [
    "# \"tobs\" is \"temperature observations\"\n",
    "df = pd.read_csv('hawaii_measurements.csv')\n",
    "df.head()"
   ]
  },
  {
   "cell_type": "code",
   "execution_count": 21,
   "metadata": {},
   "outputs": [],
   "source": [
    "# Convert the date column format from string to datetime\n",
    "df['date'] = pd.to_datetime(df['date'])"
   ]
  },
  {
   "cell_type": "code",
   "execution_count": 22,
   "metadata": {},
   "outputs": [],
   "source": [
    "# Set the date column as the DataFrame index\n",
    "df.set_index('date', inplace = True)\n"
   ]
  },
  {
   "cell_type": "markdown",
   "metadata": {},
   "source": [
    "### Compare June and December data across all years "
   ]
  },
  {
   "cell_type": "code",
   "execution_count": 23,
   "metadata": {},
   "outputs": [],
   "source": [
    "from scipy import stats"
   ]
  },
  {
   "cell_type": "code",
   "execution_count": 24,
   "metadata": {},
   "outputs": [],
   "source": [
    "# Filter data for desired months\n",
    "# June\n",
    "june2010 = df.loc['2010-06-01':'2010-06-30']\n",
    "june2011 = df.loc['2011-06-01':'2011-06-30']\n",
    "june2012 = df.loc['2012-06-01':'2012-06-30']\n",
    "june2013 = df.loc['2013-06-01':'2013-06-30']\n",
    "june2014 = df.loc['2014-06-01':'2014-06-30']\n",
    "june2015 = df.loc['2015-06-01':'2015-06-30']\n",
    "june2016 = df.loc['2016-06-01':'2016-06-30']\n",
    "june2017 = df.loc['2017-06-01':'2017-06-30']\n",
    "\n",
    "# December \n",
    "dec2010 = df.loc['2010-12-01':'2010-12-31']\n",
    "dec2011 = df.loc['2011-12-01':'2011-12-31']\n",
    "dec2012 = df.loc['2012-12-01':'2012-12-31']\n",
    "dec2013 = df.loc['2013-12-01':'2013-12-31']\n",
    "dec2014 = df.loc['2014-12-01':'2014-12-31']\n",
    "dec2015 = df.loc['2015-12-01':'2015-12-31']\n",
    "dec2016 = df.loc['2016-12-01':'2016-12-31']\n",
    "dec2017 = df.loc['2017-12-01':'2017-12-31']"
   ]
  },
  {
   "cell_type": "code",
   "execution_count": 32,
   "metadata": {},
   "outputs": [
    {
     "output_type": "execute_result",
     "data": {
      "text/plain": [
       "                station  prcp  tobs\n",
       "date                               \n",
       "2010-06-01  USC00519397  0.00    78\n",
       "2010-06-02  USC00519397  0.01    76\n",
       "2010-06-03  USC00519397  0.00    78\n",
       "2010-06-04  USC00519397  0.00    76\n",
       "2010-06-05  USC00519397  0.00    77\n",
       "...                 ...   ...   ...\n",
       "2017-06-26  USC00516128  0.02    79\n",
       "2017-06-27  USC00516128  0.10    74\n",
       "2017-06-28  USC00516128  0.02    74\n",
       "2017-06-29  USC00516128  0.04    76\n",
       "2017-06-30  USC00516128  0.20    75\n",
       "\n",
       "[1700 rows x 3 columns]"
      ],
      "text/html": "<div>\n<style scoped>\n    .dataframe tbody tr th:only-of-type {\n        vertical-align: middle;\n    }\n\n    .dataframe tbody tr th {\n        vertical-align: top;\n    }\n\n    .dataframe thead th {\n        text-align: right;\n    }\n</style>\n<table border=\"1\" class=\"dataframe\">\n  <thead>\n    <tr style=\"text-align: right;\">\n      <th></th>\n      <th>station</th>\n      <th>prcp</th>\n      <th>tobs</th>\n    </tr>\n    <tr>\n      <th>date</th>\n      <th></th>\n      <th></th>\n      <th></th>\n    </tr>\n  </thead>\n  <tbody>\n    <tr>\n      <th>2010-06-01</th>\n      <td>USC00519397</td>\n      <td>0.00</td>\n      <td>78</td>\n    </tr>\n    <tr>\n      <th>2010-06-02</th>\n      <td>USC00519397</td>\n      <td>0.01</td>\n      <td>76</td>\n    </tr>\n    <tr>\n      <th>2010-06-03</th>\n      <td>USC00519397</td>\n      <td>0.00</td>\n      <td>78</td>\n    </tr>\n    <tr>\n      <th>2010-06-04</th>\n      <td>USC00519397</td>\n      <td>0.00</td>\n      <td>76</td>\n    </tr>\n    <tr>\n      <th>2010-06-05</th>\n      <td>USC00519397</td>\n      <td>0.00</td>\n      <td>77</td>\n    </tr>\n    <tr>\n      <th>...</th>\n      <td>...</td>\n      <td>...</td>\n      <td>...</td>\n    </tr>\n    <tr>\n      <th>2017-06-26</th>\n      <td>USC00516128</td>\n      <td>0.02</td>\n      <td>79</td>\n    </tr>\n    <tr>\n      <th>2017-06-27</th>\n      <td>USC00516128</td>\n      <td>0.10</td>\n      <td>74</td>\n    </tr>\n    <tr>\n      <th>2017-06-28</th>\n      <td>USC00516128</td>\n      <td>0.02</td>\n      <td>74</td>\n    </tr>\n    <tr>\n      <th>2017-06-29</th>\n      <td>USC00516128</td>\n      <td>0.04</td>\n      <td>76</td>\n    </tr>\n    <tr>\n      <th>2017-06-30</th>\n      <td>USC00516128</td>\n      <td>0.20</td>\n      <td>75</td>\n    </tr>\n  </tbody>\n</table>\n<p>1700 rows × 3 columns</p>\n</div>"
     },
     "metadata": {},
     "execution_count": 32
    }
   ],
   "source": [
    "# Concat all  the months together across all year \n",
    "junetotal = [june2010,june2011,june2012,june2013,june2014,june2015,june2016,june2017]\n",
    "june_df = pd.concat(junetotal)\n",
    "\n",
    "dectotal = [dec2010,dec2011,dec2012,dec2013,dec2014,dec2015,dec2016,dec2017]\n",
    "dec_df = pd.concat(dectotal)\n",
    "june_df"
   ]
  },
  {
   "cell_type": "code",
   "execution_count": 8,
   "metadata": {},
   "outputs": [
    {
     "output_type": "execute_result",
     "data": {
      "text/plain": [
       "74.94411764705882"
      ]
     },
     "metadata": {},
     "execution_count": 8
    }
   ],
   "source": [
    "# Identify the average temperature for June\n",
    "june_df.tobs.mean()"
   ]
  },
  {
   "cell_type": "code",
   "execution_count": 9,
   "metadata": {},
   "outputs": [
    {
     "output_type": "execute_result",
     "data": {
      "text/plain": [
       "71.04152933421226"
      ]
     },
     "metadata": {},
     "execution_count": 9
    }
   ],
   "source": [
    "# Identify the average temperature for December\n",
    "dec_df.tobs.mean()"
   ]
  },
  {
   "source": [
    "ANALYSIS "
   ],
   "cell_type": "markdown",
   "metadata": {}
  },
  {
   "cell_type": "code",
   "execution_count": 11,
   "metadata": {},
   "outputs": [
    {
     "output_type": "execute_result",
     "data": {
      "text/plain": [
       "Ttest_indResult(statistic=31.60372399000329, pvalue=3.9025129038616655e-191)"
      ]
     },
     "metadata": {},
     "execution_count": 11
    }
   ],
   "source": [
    "# Run paired t-test\n",
    "stats.ttest_ind(june_df['tobs'], dec_df['tobs'])"
   ]
  },
  {
   "cell_type": "code",
   "execution_count": 12,
   "metadata": {},
   "outputs": [],
   "source": [
    "# A paired T-test would make more sense in this scenario we are interested in the difference between two variables for the same subject. Looking at the t-value of the paired t-test shows that there is great evidence against the null hypothesis, which means that there is a significant difference between the two groups compared. Since the p-value is less than 0.05 indicates that it is statistically significant and therefore we reject the null hypothesis since there is stronger evidence in favor of the alternative hypothesis. "
   ]
  }
 ],
 "metadata": {
  "kernelspec": {
   "display_name": "Python 3",
   "language": "python",
   "name": "python3"
  },
  "language_info": {
   "codemirror_mode": {
    "name": "ipython",
    "version": 3
   },
   "file_extension": ".py",
   "mimetype": "text/x-python",
   "name": "python",
   "nbconvert_exporter": "python",
   "pygments_lexer": "ipython3",
   "version": "3.6.10-final"
  }
 },
 "nbformat": 4,
 "nbformat_minor": 4
}